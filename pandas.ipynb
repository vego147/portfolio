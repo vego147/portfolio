{
  "nbformat": 4,
  "nbformat_minor": 0,
  "metadata": {
    "colab": {
      "provenance": [],
      "authorship_tag": "ABX9TyN9hzT8OhvFi5uA2a0pnYgH",
      "include_colab_link": true
    },
    "kernelspec": {
      "name": "python3",
      "display_name": "Python 3"
    },
    "language_info": {
      "name": "python"
    }
  },
  "cells": [
    {
      "cell_type": "markdown",
      "metadata": {
        "id": "view-in-github",
        "colab_type": "text"
      },
      "source": [
        "<a href=\"https://colab.research.google.com/github/vego147/portfolio/blob/main/pandas.ipynb\" target=\"_parent\"><img src=\"https://colab.research.google.com/assets/colab-badge.svg\" alt=\"Open In Colab\"/></a>"
      ]
    },
    {
      "cell_type": "code",
      "execution_count": 31,
      "metadata": {
        "id": "TsisV8nss47z"
      },
      "outputs": [],
      "source": [
        "import pandas as pd\n",
        "file_path = 'BMIData.csv'\n",
        "\n",
        "try:\n",
        "  df = pd.read_csv('BMIData.csv', encoding = 'utf-8')\n",
        "  ex = df.loc[0:, [\"NameHospital\", \"Sex\"]].copy()\n",
        "\n",
        "  ex.to_csv('extracteddata.csv', index=False, encoding = 'utf-8')\n",
        "\n",
        "except FileNotFoundError:\n",
        "  print(\"File not Found in this Path\")\n"
      ]
    }
  ]
}