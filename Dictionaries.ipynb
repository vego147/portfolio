{
  "nbformat": 4,
  "nbformat_minor": 0,
  "metadata": {
    "colab": {
      "provenance": [],
      "authorship_tag": "ABX9TyOYtKm2eXvhlbQWkKrOAuKN",
      "include_colab_link": true
    },
    "kernelspec": {
      "name": "python3",
      "display_name": "Python 3"
    },
    "language_info": {
      "name": "python"
    }
  },
  "cells": [
    {
      "cell_type": "markdown",
      "metadata": {
        "id": "view-in-github",
        "colab_type": "text"
      },
      "source": [
        "<a href=\"https://colab.research.google.com/github/vego147/portfolio/blob/main/Dictionaries.ipynb\" target=\"_parent\"><img src=\"https://colab.research.google.com/assets/colab-badge.svg\" alt=\"Open In Colab\"/></a>"
      ]
    },
    {
      "cell_type": "markdown",
      "source": [
        "Dictionary Basic"
      ],
      "metadata": {
        "id": "Pe5eXqjqaX-x"
      }
    },
    {
      "cell_type": "code",
      "execution_count": null,
      "metadata": {
        "colab": {
          "base_uri": "https://localhost:8080/"
        },
        "id": "ADyw5imxTwr3",
        "outputId": "f3d3fc8f-939d-46a6-f0f8-4b9eb7b21f2f"
      },
      "outputs": [
        {
          "output_type": "stream",
          "name": "stdout",
          "text": [
            "harry potter\n",
            "J.K. Rowling\n",
            "1996\n",
            "500\n",
            "enter the city: chennai\n",
            "500\n",
            "please enter a valid city\n"
          ]
        }
      ],
      "source": [
        "book ={\n",
        "    \"title\" : \"harry potter\",\n",
        "    \"author\" : \"J.K. Rowling\",\n",
        "    \"year\" : \"1996\",\n",
        "    \"price\" : \"500\"\n",
        "}\n",
        "print(book.get(\"title\"))\n",
        "print(book.get(\"author\"))\n",
        "print(book.get(\"year\"))\n",
        "print(book.get(\"price\"))\n",
        "\n",
        "\n",
        "book [\"rating\"] = 4.5\n",
        "book [\"price\"] = 550\n",
        "del book[\"year\"]\n",
        "\n",
        "count = 0\n",
        "# for key, value in book.items():\n",
        "#     count += 1\n",
        "#     print(key, value)\n",
        "\n",
        "# print(count)\n",
        "\n",
        "# print(book.get(\"title\"))\n",
        "# print(book.get(\"author\"))\n",
        "# print(book.get(\"year\"))\n",
        "# print(book.get(\"price\"))\n",
        "\n",
        "\n",
        "city = {\n",
        "    \"chennai\": 500,\n",
        "    \"Madurai\": 600,\n",
        "    \"coimbatore\": 700,\n",
        "    \"trichy\": 900\n",
        "}\n",
        "\n",
        "user = input(\"enter the city: \").lower()\n",
        "\n",
        "if user in city:\n",
        "  print (city.get(user))\n",
        "if user.isnumeric() == True:\n",
        "  print(\"dont enter number and enter a valid city\")\n",
        "else:\n",
        "  print(\"please enter a valid city\")"
      ]
    },
    {
      "cell_type": "markdown",
      "source": [
        "Dictionaries Intermediate"
      ],
      "metadata": {
        "id": "KDWrldygae6V"
      }
    },
    {
      "cell_type": "code",
      "source": [
        "import json\n",
        "\n",
        "students = {}\n",
        "\n",
        "def mainmenu():\n",
        "      dis = \"\"\"\\nstudent records\n",
        "      1. Add Student\n",
        "      2. Upadte Marks\n",
        "      3. Display all records\n",
        "      4. Save & exit\"\"\"\n",
        "      print(dis)\n",
        "\n",
        "\n",
        "def add_student():\n",
        "  name = input(\"please enter the student name\")\n",
        "  age = input(\" enter the student age\")\n",
        "  class_s = input(\"enter the student class\")\n",
        "  marks = input(\"enter the student mark\")\n",
        "\n",
        "  students[name] = {\"age\": age, \"class\": class_s, \"marks\": marks}\n",
        "  print(\"student added\")\n",
        "\n",
        "def update_marks():\n",
        "  while True:\n",
        "     name = input(\"please enter the student name Whose Marks You want to change\")\n",
        "     if name in students:\n",
        "        marks = input(f\"Please Enter your marks for{name}: \" )\n",
        "        students[name][\"marks\"] =  marks\n",
        "        print(\"Marks has been Updated\")\n",
        "        break\n",
        "     else:\n",
        "        print(\"The Student is not in list\")\n",
        "\n",
        "\n",
        "def display_records():\n",
        "  print(students)\n",
        "  print(\"Records has been Displayed\")\n",
        "\n",
        "def save_exit():\n",
        "  with open(\"student_records.txt\", \"w\") as student_book:\n",
        "     json.dump(students, student_book)\n",
        "  print(\"your File Has been saved\")\n",
        "\n",
        "\n",
        "\n",
        "\n",
        "while True:\n",
        "  mainmenu()\n",
        "  user = input(\"Please enter the number that you want to do: \")\n",
        "\n",
        "  if user == \"1\":\n",
        "    add_student()\n",
        "  elif user == \"2\":\n",
        "    update_marks()\n",
        "  elif user == \"3\":\n",
        "    display_records()\n",
        "  elif user == \"4\":\n",
        "    save_exit()\n",
        "    break\n",
        "  else:\n",
        "    print(\"please choose between 1 to 4\")\n"
      ],
      "metadata": {
        "colab": {
          "base_uri": "https://localhost:8080/"
        },
        "id": "DbevUzfPVx2v",
        "outputId": "c25e5cc9-5f99-4fb8-fdbf-9eb3b87163c1"
      },
      "execution_count": 7,
      "outputs": [
        {
          "output_type": "stream",
          "name": "stdout",
          "text": [
            "\n",
            "student records\n",
            "      1. Add Student\n",
            "      2. Upadte Marks\n",
            "      3. Display all records\n",
            "      4. Save & exit\n",
            "Please enter the number that you want to do: 1\n",
            "please enter the student nameMukesh\n",
            " enter the student age22\n",
            "enter the student class35\n",
            "enter the student mark66\n",
            "student added\n",
            "\n",
            "student records\n",
            "      1. Add Student\n",
            "      2. Upadte Marks\n",
            "      3. Display all records\n",
            "      4. Save & exit\n",
            "Please enter the number that you want to do: 2\n",
            "please enter the student name Whose Marks You want to changemukesh\n",
            "The Student is not in list\n",
            "please enter the student name Whose Marks You want to changeMukesh\n",
            "Please Enter your marks forMukesh: 65\n",
            "Marks has been Updated\n",
            "\n",
            "student records\n",
            "      1. Add Student\n",
            "      2. Upadte Marks\n",
            "      3. Display all records\n",
            "      4. Save & exit\n",
            "Please enter the number that you want to do: 3\n",
            "{'Mukesh': {'age': '22', 'class': '35', 'marks': '65'}}\n",
            "Records has been Displayed\n",
            "\n",
            "student records\n",
            "      1. Add Student\n",
            "      2. Upadte Marks\n",
            "      3. Display all records\n",
            "      4. Save & exit\n",
            "Please enter the number that you want to do: 4\n",
            "your File Has been saved\n"
          ]
        }
      ]
    },
    {
      "cell_type": "code",
      "source": [],
      "metadata": {
        "id": "H3iy-6xWbBXx"
      },
      "execution_count": null,
      "outputs": []
    }
  ]
}